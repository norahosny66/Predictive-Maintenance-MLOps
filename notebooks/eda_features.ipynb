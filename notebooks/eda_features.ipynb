{
 "cells": [
  {
   "cell_type": "code",
   "execution_count": 1,
   "id": "f9c875ee-a99b-49a5-8d05-5c8c510bc4ee",
   "metadata": {},
   "outputs": [
    {
     "data": {
      "text/plain": [
       "(9018, 51)"
      ]
     },
     "execution_count": 1,
     "metadata": {},
     "output_type": "execute_result"
    }
   ],
   "source": [
    "import pandas as pd\n",
    "import matplotlib.pyplot as plt\n",
    "import seaborn as sns\n",
    "\n",
    "df = pd.read_csv(\"../data/processed/features.csv\")\n",
    "df.shape\n"
   ]
  },
  {
   "cell_type": "code",
   "execution_count": 2,
   "id": "cc5bdea4-056c-452d-93d1-ac47744643fb",
   "metadata": {},
   "outputs": [
    {
     "data": {
      "text/html": [
       "<div>\n",
       "<style scoped>\n",
       "    .dataframe tbody tr th:only-of-type {\n",
       "        vertical-align: middle;\n",
       "    }\n",
       "\n",
       "    .dataframe tbody tr th {\n",
       "        vertical-align: top;\n",
       "    }\n",
       "\n",
       "    .dataframe thead th {\n",
       "        text-align: right;\n",
       "    }\n",
       "</style>\n",
       "<table border=\"1\" class=\"dataframe\">\n",
       "  <thead>\n",
       "    <tr style=\"text-align: right;\">\n",
       "      <th></th>\n",
       "      <th>mean_0</th>\n",
       "      <th>rms_0</th>\n",
       "      <th>std_0</th>\n",
       "      <th>kurtosis_0</th>\n",
       "      <th>skew_0</th>\n",
       "      <th>peak_0</th>\n",
       "      <th>mean_1</th>\n",
       "      <th>rms_1</th>\n",
       "      <th>std_1</th>\n",
       "      <th>kurtosis_1</th>\n",
       "      <th>...</th>\n",
       "      <th>peak_6</th>\n",
       "      <th>mean_7</th>\n",
       "      <th>rms_7</th>\n",
       "      <th>std_7</th>\n",
       "      <th>kurtosis_7</th>\n",
       "      <th>skew_7</th>\n",
       "      <th>peak_7</th>\n",
       "      <th>filename</th>\n",
       "      <th>source</th>\n",
       "      <th>label</th>\n",
       "    </tr>\n",
       "  </thead>\n",
       "  <tbody>\n",
       "    <tr>\n",
       "      <th>0</th>\n",
       "      <td>-0.094593</td>\n",
       "      <td>0.124614</td>\n",
       "      <td>0.081124</td>\n",
       "      <td>1.069717</td>\n",
       "      <td>-0.029995</td>\n",
       "      <td>0.388</td>\n",
       "      <td>-0.093880</td>\n",
       "      <td>0.117493</td>\n",
       "      <td>0.070650</td>\n",
       "      <td>3.066925</td>\n",
       "      <td>...</td>\n",
       "      <td>0.249</td>\n",
       "      <td>-0.094235</td>\n",
       "      <td>0.115267</td>\n",
       "      <td>0.066382</td>\n",
       "      <td>1.808725</td>\n",
       "      <td>0.008295</td>\n",
       "      <td>0.374</td>\n",
       "      <td>2003.10.22.12.06.24</td>\n",
       "      <td>1st_test</td>\n",
       "      <td>0</td>\n",
       "    </tr>\n",
       "    <tr>\n",
       "      <th>1</th>\n",
       "      <td>-0.094903</td>\n",
       "      <td>0.123811</td>\n",
       "      <td>0.079517</td>\n",
       "      <td>1.162128</td>\n",
       "      <td>-0.070080</td>\n",
       "      <td>0.388</td>\n",
       "      <td>-0.093891</td>\n",
       "      <td>0.116833</td>\n",
       "      <td>0.069531</td>\n",
       "      <td>2.001798</td>\n",
       "      <td>...</td>\n",
       "      <td>0.376</td>\n",
       "      <td>-0.087946</td>\n",
       "      <td>0.109208</td>\n",
       "      <td>0.064746</td>\n",
       "      <td>1.873939</td>\n",
       "      <td>-0.053796</td>\n",
       "      <td>0.273</td>\n",
       "      <td>2003.10.22.12.09.13</td>\n",
       "      <td>1st_test</td>\n",
       "      <td>0</td>\n",
       "    </tr>\n",
       "    <tr>\n",
       "      <th>2</th>\n",
       "      <td>-0.096187</td>\n",
       "      <td>0.125246</td>\n",
       "      <td>0.080219</td>\n",
       "      <td>0.986819</td>\n",
       "      <td>-0.041649</td>\n",
       "      <td>0.317</td>\n",
       "      <td>-0.095863</td>\n",
       "      <td>0.118384</td>\n",
       "      <td>0.069465</td>\n",
       "      <td>1.969725</td>\n",
       "      <td>...</td>\n",
       "      <td>0.261</td>\n",
       "      <td>-0.093106</td>\n",
       "      <td>0.113696</td>\n",
       "      <td>0.065255</td>\n",
       "      <td>1.430337</td>\n",
       "      <td>0.047142</td>\n",
       "      <td>0.376</td>\n",
       "      <td>2003.10.22.12.14.13</td>\n",
       "      <td>1st_test</td>\n",
       "      <td>0</td>\n",
       "    </tr>\n",
       "    <tr>\n",
       "      <th>3</th>\n",
       "      <td>-0.095613</td>\n",
       "      <td>0.125197</td>\n",
       "      <td>0.080827</td>\n",
       "      <td>1.034839</td>\n",
       "      <td>0.005162</td>\n",
       "      <td>0.457</td>\n",
       "      <td>-0.095307</td>\n",
       "      <td>0.119005</td>\n",
       "      <td>0.071267</td>\n",
       "      <td>1.746089</td>\n",
       "      <td>...</td>\n",
       "      <td>0.198</td>\n",
       "      <td>-0.093244</td>\n",
       "      <td>0.114413</td>\n",
       "      <td>0.066303</td>\n",
       "      <td>1.378814</td>\n",
       "      <td>0.021107</td>\n",
       "      <td>0.327</td>\n",
       "      <td>2003.10.22.12.19.13</td>\n",
       "      <td>1st_test</td>\n",
       "      <td>0</td>\n",
       "    </tr>\n",
       "    <tr>\n",
       "      <th>4</th>\n",
       "      <td>-0.095133</td>\n",
       "      <td>0.125618</td>\n",
       "      <td>0.082036</td>\n",
       "      <td>1.110728</td>\n",
       "      <td>-0.060200</td>\n",
       "      <td>0.388</td>\n",
       "      <td>-0.095495</td>\n",
       "      <td>0.119688</td>\n",
       "      <td>0.072155</td>\n",
       "      <td>1.181742</td>\n",
       "      <td>...</td>\n",
       "      <td>0.215</td>\n",
       "      <td>-0.093070</td>\n",
       "      <td>0.114258</td>\n",
       "      <td>0.066280</td>\n",
       "      <td>1.498312</td>\n",
       "      <td>0.008627</td>\n",
       "      <td>0.349</td>\n",
       "      <td>2003.10.22.12.24.13</td>\n",
       "      <td>1st_test</td>\n",
       "      <td>0</td>\n",
       "    </tr>\n",
       "  </tbody>\n",
       "</table>\n",
       "<p>5 rows × 51 columns</p>\n",
       "</div>"
      ],
      "text/plain": [
       "     mean_0     rms_0     std_0  kurtosis_0    skew_0  peak_0    mean_1  \\\n",
       "0 -0.094593  0.124614  0.081124    1.069717 -0.029995   0.388 -0.093880   \n",
       "1 -0.094903  0.123811  0.079517    1.162128 -0.070080   0.388 -0.093891   \n",
       "2 -0.096187  0.125246  0.080219    0.986819 -0.041649   0.317 -0.095863   \n",
       "3 -0.095613  0.125197  0.080827    1.034839  0.005162   0.457 -0.095307   \n",
       "4 -0.095133  0.125618  0.082036    1.110728 -0.060200   0.388 -0.095495   \n",
       "\n",
       "      rms_1     std_1  kurtosis_1  ...  peak_6    mean_7     rms_7     std_7  \\\n",
       "0  0.117493  0.070650    3.066925  ...   0.249 -0.094235  0.115267  0.066382   \n",
       "1  0.116833  0.069531    2.001798  ...   0.376 -0.087946  0.109208  0.064746   \n",
       "2  0.118384  0.069465    1.969725  ...   0.261 -0.093106  0.113696  0.065255   \n",
       "3  0.119005  0.071267    1.746089  ...   0.198 -0.093244  0.114413  0.066303   \n",
       "4  0.119688  0.072155    1.181742  ...   0.215 -0.093070  0.114258  0.066280   \n",
       "\n",
       "   kurtosis_7    skew_7  peak_7             filename    source  label  \n",
       "0    1.808725  0.008295   0.374  2003.10.22.12.06.24  1st_test      0  \n",
       "1    1.873939 -0.053796   0.273  2003.10.22.12.09.13  1st_test      0  \n",
       "2    1.430337  0.047142   0.376  2003.10.22.12.14.13  1st_test      0  \n",
       "3    1.378814  0.021107   0.327  2003.10.22.12.19.13  1st_test      0  \n",
       "4    1.498312  0.008627   0.349  2003.10.22.12.24.13  1st_test      0  \n",
       "\n",
       "[5 rows x 51 columns]"
      ]
     },
     "execution_count": 2,
     "metadata": {},
     "output_type": "execute_result"
    }
   ],
   "source": [
    "df.head()\n"
   ]
  },
  {
   "cell_type": "code",
   "execution_count": 3,
   "id": "a5b4003f-6939-4fbe-9069-f4a82d6cd126",
   "metadata": {},
   "outputs": [
    {
     "data": {
      "text/plain": [
       "kurtosis_7    6862\n",
       "std_7         6862\n",
       "rms_7         6862\n",
       "peak_5        6862\n",
       "mean_6        6862\n",
       "dtype: int64"
      ]
     },
     "execution_count": 3,
     "metadata": {},
     "output_type": "execute_result"
    }
   ],
   "source": [
    "df.isnull().sum().sort_values(ascending=False).head()\n"
   ]
  },
  {
   "cell_type": "code",
   "execution_count": 4,
   "id": "68b44c9d-4728-45ae-bff1-04931e9b65b5",
   "metadata": {},
   "outputs": [],
   "source": [
    "df_clean = df.dropna(axis=1)\n"
   ]
  },
  {
   "cell_type": "code",
   "execution_count": 5,
   "id": "12f34dfa-d872-419c-86f3-cdd399714b9a",
   "metadata": {},
   "outputs": [
    {
     "data": {
      "image/png": "[encoded data removed]",
      "text/plain": [
       "<Figure size 640x480 with 1 Axes>"
      ]
     },
     "metadata": {},
     "output_type": "display_data"
    }
   ],
   "source": [
    "sns.countplot(x=\"label\", data=df)\n",
    "plt.title(\"Failure vs Healthy\")\n",
    "plt.show()\n"
   ]
  },
  {
   "cell_type": "code",
   "execution_count": null,
   "id": "c2ff183c-ddc5-492e-bb14-f284c3fb1655",
   "metadata": {},
   "outputs": [],
   "source": []
  }
 ],
 "metadata": {
  "kernelspec": {
   "display_name": "Python 3 (ipykernel)",
   "language": "python",
   "name": "python3"
  },
  "language_info": {
   "codemirror_mode": {
    "name": "ipython",
    "version": 3
   },
   "file_extension": ".py",
   "mimetype": "text/x-python",
   "name": "python",
   "nbconvert_exporter": "python",
   "pygments_lexer": "ipython3",
   "version": "3.10.12"
  }
 },
 "nbformat": 4,
 "nbformat_minor": 5
}
